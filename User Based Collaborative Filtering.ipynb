{
 "cells": [
  {
   "cell_type": "markdown",
   "metadata": {},
   "source": [
    "### Recommendation Systems - User Based Collaborative Filtering"
   ]
  },
  {
   "cell_type": "markdown",
   "metadata": {},
   "source": [
    "<img src='https://buildingrecommenders.files.wordpress.com/2015/11/user-based-similarity-full.png?w=319&h=300'/>"
   ]
  },
  {
   "cell_type": "code",
   "execution_count": 1,
   "metadata": {},
   "outputs": [],
   "source": [
    "# import necessary libraries\n",
    "\n",
    "import pandas as pd\n",
    "from math import sqrt"
   ]
  },
  {
   "cell_type": "code",
   "execution_count": 36,
   "metadata": {},
   "outputs": [],
   "source": [
    "#dictionary with usernames their watched web series and ratings out of 5\n",
    "\n",
    "dataset={\n",
    "        'Tanya': {'Pop-up Shop': 5,\n",
    "                  'Promotional Event': 3,\n",
    "                  'Birthday Celebration': 3,\n",
    "                  'Business Meeting': 3,\n",
    "                  'Personal Gathering': 2,\n",
    "                  'Miscellaneous': 3},\n",
    "    \n",
    "        'Mohan': {'Pop-up Shop': 5,\n",
    "                    'Promotional Event': 3,\n",
    "                    'Business Meeting': 5,\n",
    "                    'Birthday Celebration':5,\n",
    "                    'Miscellaneous': 3,\n",
    "                    'Personal Gathering': 3},\n",
    "    \n",
    "        'Tasha': {'Pop-up Shop': 2,\n",
    "                   'Birthday Celebration': 5,\n",
    "                   'Business Meeting': 3,\n",
    "                   'Miscellaneous': 4},\n",
    "    \n",
    "        'Nirbhay': {'Birthday Celebration': 5,\n",
    "                   'Miscellaneous': 4,\n",
    "                   'Business Meeting': 4,},\n",
    "    \n",
    "       'Muskan': {'Pop-up Shop': 4,\n",
    "                    'Promotional Event': 4,\n",
    "                    'Birthday Celebration': 4,\n",
    "                    'Miscellaneous': 3,\n",
    "                    'Personal Gathering': 2},\n",
    "    \n",
    "       'Anshika': {'Pop-up Shop': 3,\n",
    "                  'Birthday Celebration': 4,\n",
    "                  'Miscellaneous': 3,\n",
    "                  'Business Meeting': 5,\n",
    "                  'Personal Gathering': 3},\n",
    "    \n",
    "      'Dhawal': {'Birthday Celebration':4,\n",
    "                  'Personal Gathering':1,\n",
    "                  'Business Meeting':4}}"
   ]
  },
  {
   "cell_type": "code",
   "execution_count": 35,
   "metadata": {},
   "outputs": [
    {
     "name": "stderr",
     "output_type": "stream",
     "text": [
      "C:\\Users\\amand\\AppData\\Local\\Temp\\ipykernel_6588\\3172379779.py:4: FutureWarning: Setting an item of incompatible dtype is deprecated and will raise in a future error of pandas. Value 'N/A' has dtype incompatible with float64, please explicitly cast to a compatible dtype first.\n",
      "  dataset_df.fillna(\"N/A\",inplace=True)\n"
     ]
    },
    {
     "data": {
      "text/html": [
       "<div>\n",
       "<style scoped>\n",
       "    .dataframe tbody tr th:only-of-type {\n",
       "        vertical-align: middle;\n",
       "    }\n",
       "\n",
       "    .dataframe tbody tr th {\n",
       "        vertical-align: top;\n",
       "    }\n",
       "\n",
       "    .dataframe thead th {\n",
       "        text-align: right;\n",
       "    }\n",
       "</style>\n",
       "<table border=\"1\" class=\"dataframe\">\n",
       "  <thead>\n",
       "    <tr style=\"text-align: right;\">\n",
       "      <th></th>\n",
       "      <th>Tanya</th>\n",
       "      <th>Mohan</th>\n",
       "      <th>Tasha</th>\n",
       "      <th>Nirbhay</th>\n",
       "      <th>Muskan</th>\n",
       "      <th>Anshika</th>\n",
       "      <th>Dhawal</th>\n",
       "    </tr>\n",
       "  </thead>\n",
       "  <tbody>\n",
       "    <tr>\n",
       "      <th>Pop-up Shop</th>\n",
       "      <td>5</td>\n",
       "      <td>5</td>\n",
       "      <td>2.0</td>\n",
       "      <td>N/A</td>\n",
       "      <td>4.0</td>\n",
       "      <td>3.0</td>\n",
       "      <td>N/A</td>\n",
       "    </tr>\n",
       "    <tr>\n",
       "      <th>Promotional Event</th>\n",
       "      <td>3</td>\n",
       "      <td>3</td>\n",
       "      <td>N/A</td>\n",
       "      <td>N/A</td>\n",
       "      <td>4.0</td>\n",
       "      <td>N/A</td>\n",
       "      <td>N/A</td>\n",
       "    </tr>\n",
       "    <tr>\n",
       "      <th>Birthday Celebration</th>\n",
       "      <td>3</td>\n",
       "      <td>5</td>\n",
       "      <td>5.0</td>\n",
       "      <td>5.0</td>\n",
       "      <td>4.0</td>\n",
       "      <td>4.0</td>\n",
       "      <td>4.0</td>\n",
       "    </tr>\n",
       "    <tr>\n",
       "      <th>Business Meeting</th>\n",
       "      <td>3</td>\n",
       "      <td>5</td>\n",
       "      <td>3.0</td>\n",
       "      <td>4.0</td>\n",
       "      <td>N/A</td>\n",
       "      <td>5.0</td>\n",
       "      <td>4.0</td>\n",
       "    </tr>\n",
       "    <tr>\n",
       "      <th>Personal Gathering</th>\n",
       "      <td>2</td>\n",
       "      <td>3</td>\n",
       "      <td>N/A</td>\n",
       "      <td>N/A</td>\n",
       "      <td>2.0</td>\n",
       "      <td>3.0</td>\n",
       "      <td>1.0</td>\n",
       "    </tr>\n",
       "    <tr>\n",
       "      <th>Miscellaneous</th>\n",
       "      <td>3</td>\n",
       "      <td>3</td>\n",
       "      <td>4.0</td>\n",
       "      <td>4.0</td>\n",
       "      <td>3.0</td>\n",
       "      <td>3.0</td>\n",
       "      <td>N/A</td>\n",
       "    </tr>\n",
       "  </tbody>\n",
       "</table>\n",
       "</div>"
      ],
      "text/plain": [
       "                      Tanya  Mohan Tasha Nirbhay Muskan Anshika Dhawal\n",
       "Pop-up Shop               5      5   2.0     N/A    4.0     3.0    N/A\n",
       "Promotional Event         3      3   N/A     N/A    4.0     N/A    N/A\n",
       "Birthday Celebration      3      5   5.0     5.0    4.0     4.0    4.0\n",
       "Business Meeting          3      5   3.0     4.0    N/A     5.0    4.0\n",
       "Personal Gathering        2      3   N/A     N/A    2.0     3.0    1.0\n",
       "Miscellaneous             3      3   4.0     4.0    3.0     3.0    N/A"
      ]
     },
     "execution_count": 35,
     "metadata": {},
     "output_type": "execute_result"
    }
   ],
   "source": [
    "#create a data frame of this dataset\n",
    "\n",
    "dataset_df=pd.DataFrame(dataset)\n",
    "dataset_df.fillna(\"N/A\",inplace=True)\n",
    "dataset_df"
   ]
  },
  {
   "cell_type": "code",
   "execution_count": 37,
   "metadata": {},
   "outputs": [],
   "source": [
    "# custom function to create unique set of web series\n",
    "\n",
    "def unique_items():\n",
    "    unique_items_list = []\n",
    "    for person in dataset.keys():\n",
    "        for items in dataset[person]:\n",
    "            unique_items_list.append(items)\n",
    "    s=set(unique_items_list)\n",
    "    unique_items_list=list(s)\n",
    "    return unique_items_list"
   ]
  },
  {
   "cell_type": "code",
   "execution_count": 38,
   "metadata": {},
   "outputs": [
    {
     "data": {
      "text/plain": [
       "['Promotional Event',\n",
       " 'Miscellaneous',\n",
       " 'Pop-up Shop',\n",
       " 'Business Meeting',\n",
       " 'Birthday Celebration',\n",
       " 'Personal Gathering']"
      ]
     },
     "execution_count": 38,
     "metadata": {},
     "output_type": "execute_result"
    }
   ],
   "source": [
    "unique_items()"
   ]
  },
  {
   "cell_type": "markdown",
   "metadata": {},
   "source": [
    "<img src='https://miro.medium.com/max/2512/1*Xvf2o6kE4VCuueMPikxZ_A.png'/>"
   ]
  },
  {
   "cell_type": "code",
   "execution_count": 39,
   "metadata": {},
   "outputs": [],
   "source": [
    "# custom function to create pearson correlation method from scratch\n",
    "\n",
    "def person_corelation(person1,person2):\n",
    "    both_rated = {}\n",
    "    for item in dataset[person1]:\n",
    "        if item in dataset[person2]:\n",
    "            both_rated[item] = 1\n",
    "\n",
    "    number_of_ratings = len(both_rated)\n",
    "    if number_of_ratings == 0:\n",
    "        return 0\n",
    "\n",
    "    person1_preferences_sum = sum([dataset[person1][item] for item in both_rated])\n",
    "    person2_preferences_sum = sum([dataset[person2][item] for item in both_rated])\n",
    "\n",
    "    # Sum up the squares of preferences of each user\n",
    "    person1_square_preferences_sum = sum([pow(dataset[person1][item], 2) for item in both_rated])\n",
    "    person2_square_preferences_sum = sum([pow(dataset[person2][item], 2) for item in both_rated])\n",
    "\n",
    "    # Sum up the product value of both preferences for each item\n",
    "    product_sum_of_both_users = sum([dataset[person1][item] * dataset[person2][item] for item in both_rated])\n",
    "\n",
    "    # Calculate the pearson score\n",
    "    numerator_value = product_sum_of_both_users - (\n",
    "    person1_preferences_sum * person2_preferences_sum / number_of_ratings)\n",
    "    denominator_value = sqrt((person1_square_preferences_sum - pow(person1_preferences_sum, 2) / number_of_ratings) * (\n",
    "    person2_square_preferences_sum - pow(person2_preferences_sum, 2) / number_of_ratings))\n",
    "    if denominator_value == 0:\n",
    "        return 0\n",
    "    else:\n",
    "        r = numerator_value / denominator_value\n",
    "        return r"
   ]
  },
  {
   "cell_type": "markdown",
   "metadata": {},
   "source": [
    "## Phase 1 - User Similarity by using Pearson Correlation method"
   ]
  },
  {
   "cell_type": "code",
   "execution_count": 40,
   "metadata": {},
   "outputs": [],
   "source": [
    "# custom function to check most similar users\n",
    "\n",
    "def most_similar_users(target_person,no_of_users):\n",
    "    \n",
    "    # Used list comprehension for finding pearson similarity between users\n",
    "    scores = [(person_corelation(target_person,other_person),other_person) for other_person in dataset if other_person !=target_person]\n",
    "    \n",
    "    #sort the scores in descending order\n",
    "    scores.sort(reverse=True)\n",
    "    \n",
    "    #return the scores between the target person & other persons\n",
    "    return scores[0:no_of_users]"
   ]
  },
  {
   "cell_type": "code",
   "execution_count": 41,
   "metadata": {},
   "outputs": [
    {
     "data": {
      "text/plain": [
       "[(1.0000000000000004, 'Dhawal'),\n",
       " (0.6123724356957959, 'Muskan'),\n",
       " (0.6123724356957959, 'Anshika'),\n",
       " (0.5570860145311555, 'Tanya'),\n",
       " (0.49999999999999933, 'Nirbhay'),\n",
       " (-0.2581988897471611, 'Tasha')]"
      ]
     },
     "execution_count": 41,
     "metadata": {},
     "output_type": "execute_result"
    }
   ],
   "source": [
    "# function check by input one person name & returns the similarity score \n",
    "\n",
    "most_similar_users('Mohan',6)"
   ]
  },
  {
   "cell_type": "code",
   "execution_count": 42,
   "metadata": {},
   "outputs": [],
   "source": [
    "#custom function to filter the seen movies and unseen movies of the target user\n",
    "\n",
    "def target_movies_to_users(target_person):\n",
    "    target_person_movie_lst = []\n",
    "    unique_list =unique_items()\n",
    "    for movies in dataset[target_person]:\n",
    "        target_person_movie_lst.append(movies)\n",
    "\n",
    "    s=set(unique_list)\n",
    "    recommended_movies=list(s.difference(target_person_movie_lst))\n",
    "    a = len(recommended_movies)\n",
    "    if a == 0:\n",
    "        return 0\n",
    "    return recommended_movies,target_person_movie_lst"
   ]
  },
  {
   "cell_type": "code",
   "execution_count": 44,
   "metadata": {},
   "outputs": [
    {
     "data": {
      "text/html": [
       "<div>\n",
       "<style scoped>\n",
       "    .dataframe tbody tr th:only-of-type {\n",
       "        vertical-align: middle;\n",
       "    }\n",
       "\n",
       "    .dataframe tbody tr th {\n",
       "        vertical-align: top;\n",
       "    }\n",
       "\n",
       "    .dataframe thead th {\n",
       "        text-align: right;\n",
       "    }\n",
       "</style>\n",
       "<table border=\"1\" class=\"dataframe\">\n",
       "  <thead>\n",
       "    <tr style=\"text-align: right;\">\n",
       "      <th></th>\n",
       "      <th>Not used for</th>\n",
       "      <th>Used for</th>\n",
       "    </tr>\n",
       "  </thead>\n",
       "  <tbody>\n",
       "    <tr>\n",
       "      <th>0</th>\n",
       "      <td>Personal Gathering</td>\n",
       "      <td>Birthday Celebration</td>\n",
       "    </tr>\n",
       "    <tr>\n",
       "      <th>1</th>\n",
       "      <td>Pop-up Shop</td>\n",
       "      <td>Miscellaneous</td>\n",
       "    </tr>\n",
       "    <tr>\n",
       "      <th>2</th>\n",
       "      <td>Promotional Event</td>\n",
       "      <td>Business Meeting</td>\n",
       "    </tr>\n",
       "  </tbody>\n",
       "</table>\n",
       "</div>"
      ],
      "text/plain": [
       "         Not used for              Used for\n",
       "0  Personal Gathering  Birthday Celebration\n",
       "1         Pop-up Shop         Miscellaneous\n",
       "2   Promotional Event      Business Meeting"
      ]
     },
     "execution_count": 44,
     "metadata": {},
     "output_type": "execute_result"
    }
   ],
   "source": [
    "# function check\n",
    "\n",
    "unseen_movies,seen_movies=target_movies_to_users('Nirbhay')\n",
    "\n",
    "dct = {\"Not used for\":unseen_movies,\"Used for\":seen_movies}\n",
    "pd.DataFrame(dct)"
   ]
  },
  {
   "cell_type": "code",
   "execution_count": 53,
   "metadata": {},
   "outputs": [],
   "source": [
    "# get stations related to recommendation\n",
    "\n",
    "stations_recommendations = {\n",
    "    \"Promotional Event\": [\"Bras Basah\", \"City Hall\"],\n",
    "    \"Personal Gathering\": [\"Caldecott\"],\n",
    "    \"Pop-up Shop\": [\"Bras Basah\", \"City Hall\", \"Caldecott\"]\n",
    "}"
   ]
  },
  {
   "cell_type": "markdown",
   "metadata": {},
   "source": [
    "## Phase 2: Recommendation Phase - recommending ```web series``` on the behalf of user similarity"
   ]
  },
  {
   "cell_type": "code",
   "execution_count": 48,
   "metadata": {},
   "outputs": [],
   "source": [
    "def recommendation_phase(person):\n",
    "    # Gets recommendations for a person by using a weighted average of every other user's rankings\n",
    "    totals = {}  #empty dictionary\n",
    "    simSums = {} # empty dictionary\n",
    "    for other in dataset:\n",
    "        # don't compare me to myself\n",
    "        if other == person:\n",
    "            continue\n",
    "        sim = person_corelation(person, other)\n",
    "\n",
    "        # ignore scores of zero or lower\n",
    "        if sim <= 0:\n",
    "            continue\n",
    "        for item in dataset[other]:\n",
    "            # only score movies i haven't seen yet\n",
    "            if item not in dataset[person]:\n",
    "                # Similrity * score\n",
    "                totals.setdefault(item, 0)\n",
    "                totals[item] += dataset[other][item] * sim\n",
    "                # sum of similarities\n",
    "                simSums.setdefault(item, 0)\n",
    "                simSums[item] += sim\n",
    "                # Create the normalized list\n",
    "\n",
    "    rankings = [(total / simSums[item], item) for item, total in totals.items()]\n",
    "    rankings.sort(reverse=True)\n",
    "    # returns the recommended items\n",
    "    recommendations_list = [(recommend_item,score) for score, recommend_item in rankings]\n",
    "    return recommendations_list"
   ]
  },
  {
   "cell_type": "code",
   "execution_count": null,
   "metadata": {},
   "outputs": [],
   "source": []
  },
  {
   "cell_type": "code",
   "execution_count": 54,
   "metadata": {},
   "outputs": [
    {
     "name": "stdout",
     "output_type": "stream",
     "text": [
      "Enter the target person\n",
      "Recommendation Using User based Collaborative Filtering:  \n",
      "Promotional Event ----> 3.666666666666667 ----> ['Bras Basah', 'City Hall']\n",
      "Pop-up Shop ----> 3.479274057836309 ----> ['Bras Basah', 'City Hall', 'Caldecott']\n",
      "Personal Gathering ----> 2.333333333333333 ----> ['Caldecott']\n"
     ]
    }
   ],
   "source": [
    "print(\"Enter the target person\")\n",
    "tp = input().title()\n",
    "if tp in dataset.keys():\n",
    "    a=recommendation_phase(tp)\n",
    "    if a != -1:\n",
    "        print(\"Recommendation Using User based Collaborative Filtering:  \")\n",
    "        for webseries,weights in a:\n",
    "            print(webseries,'---->',weights, \"---->\", stations_recommendations[webseries])\n",
    "else:\n",
    "    print(\"Person not found in the dataset..please try again\")"
   ]
  },
  {
   "cell_type": "code",
   "execution_count": null,
   "metadata": {},
   "outputs": [],
   "source": []
  }
 ],
 "metadata": {
  "kernelspec": {
   "display_name": "Python 3",
   "language": "python",
   "name": "python3"
  },
  "language_info": {
   "codemirror_mode": {
    "name": "ipython",
    "version": 3
   },
   "file_extension": ".py",
   "mimetype": "text/x-python",
   "name": "python",
   "nbconvert_exporter": "python",
   "pygments_lexer": "ipython3",
   "version": "3.6.4"
  }
 },
 "nbformat": 4,
 "nbformat_minor": 2
}
